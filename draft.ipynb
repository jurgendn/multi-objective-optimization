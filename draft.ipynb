{
  "cells": [
    {
      "cell_type": "code",
      "execution_count": 1,
      "metadata": {
        "id": "R4HyR3nsn88m"
      },
      "outputs": [],
      "source": [
        "import pickle\n",
        "from dataclasses import dataclass\n",
        "from typing import Any, Callable\n",
        "\n",
        "import matplotlib.pyplot as plt\n",
        "import numpy as np\n",
        "from scipy.optimize import fmin\n",
        "from tqdm.auto import tqdm\n",
        "from math import sin, cos\n",
        "from poom.optimizers.newton.utils import Visualizer\n",
        "from utils.helpers import make_mesh\n"
      ]
    },
    {
      "cell_type": "code",
      "execution_count": 2,
      "metadata": {
        "id": "BZPHl-s3oHCQ"
      },
      "outputs": [],
      "source": [
        "class Obj:\n",
        "\n",
        "    def f(self, x):\n",
        "        A1 = 0.5 * sin(1) - 2 * cos(1) + sin(2) - 1.5 * cos(2)\n",
        "        A2 = 1.5 * sin(1) - cos(1) + 2 * sin(2) - 0.5 * cos(2)\n",
        "        B1 = 0.5 * sin(x[0]) - 2 * cos(x[0]) + sin(x[1]) - 1.5 * cos(x[1])\n",
        "        B2 = 1.5 * sin(x[0]) + cos(x[0]) + 2 * sin(x[1]) - 0.5 * cos(x[1])\n",
        "        return (1 + (A1 - B1)**2 + (A2 - B2)**2)\n",
        "\n",
        "\n",
        "    def g(self, x):\n",
        "        return ((x[0] + 3)**2) + (x[1] + 1)**2\n",
        "\n",
        "    def Fs(self, x):\n",
        "        return np.array([self.f(x), self.g(x)])\n",
        "\n",
        "    def Fss(self):\n",
        "        return np.array([self.f, self.g])\n",
        "\n",
        "\n",
        "# class Obj:\n",
        "#     def f(self, x):\n",
        "#         return x[0]**2 + 3 * (x[1] - 1)**2 + (x[2] - 2)**2\n",
        "\n",
        "#     def g(self, x):\n",
        "#         return 2 * (x[0] - 1)**2 + x[1]**2\n",
        "\n",
        "#     def h(self, x):\n",
        "#         return 2 * (x[0] - 1)**2 + x[2]**2\n",
        "\n",
        "#     def Fs(self, x):\n",
        "#         return np.array([self.f(x), self.g(x), self.h(x)])\n",
        "\n",
        "#     def Fss(self):\n",
        "#         return np.array([self.f, self.g, self.h])"
      ]
    },
    {
      "cell_type": "code",
      "execution_count": 3,
      "metadata": {
        "id": "J2I7Z0rWvkEL"
      },
      "outputs": [],
      "source": [
        "# contrained conditions\n",
        "\n",
        "@dataclass\n",
        "class SteepestDescent:\n",
        "    ndim: int\n",
        "    nu: float #alpha\n",
        "    sigma: float #m1\n",
        "    eps: float\n",
        "\n",
        "    def grad(self, f, x, h=1e-4):\n",
        "        g = np.zeros_like(x)\n",
        "        for i in range(self.ndim):\n",
        "            tmp = x[i]\n",
        "            x[i] = tmp + h\n",
        "            yr = f(x)\n",
        "            x[i] = tmp - h\n",
        "            yl = f(x)\n",
        "            g[i] = (yr - yl) / (2 * h)\n",
        "            x[i] = tmp\n",
        "        return g\n",
        "\n",
        "    def nabla_F(self, x):\n",
        "        obj = Obj()\n",
        "        F = obj.Fss()\n",
        "        nabla_F = np.zeros((len(F), self.ndim)) # (m, n) dimensional matrix\n",
        "        for i, f in enumerate(F):\n",
        "            nabla_F[i] = self.grad(F[i], x)\n",
        "        return nabla_F\n",
        "\n",
        "    def phi(self, d, x):\n",
        "        nabla_F = self.nabla_F(x)\n",
        "        return max(np.dot(nabla_F, d)) + 0.5 * np.linalg.norm(d) ** 2\n",
        "\n",
        "    def theta(self, d, x):\n",
        "        return self.phi(d, x) + 0.5 * np.linalg.norm(d) ** 2\n",
        "\n",
        "    def armijo(self, d, x):\n",
        "        obj = Obj()\n",
        "        t = 1\n",
        "        Fl = np.array(obj.Fs(x + t * d))\n",
        "        Fr = np.array(obj.Fs(x))\n",
        "        Re = self.sigma * t * np.dot(self.nabla_F(x), d)\n",
        "        while np.all(Fl > Fr + Re):\n",
        "            t *= self.nu\n",
        "            Fl = np.array(obj.Fs(x + t * d))\n",
        "            Fr = np.array(obj.Fs(x))\n",
        "            Re = self.sigma * t * np.dot(self.nabla_F(x), d)\n",
        "        return t\n",
        "    \n",
        "    def steepest(self, x):\n",
        "        obj = Obj()\n",
        "        list_point = []\n",
        "        d = np.array(fmin(self.phi, x, args=(x, ), disp=False))\n",
        "        th = self.theta(d, x)\n",
        "        for i in range(50):\n",
        "            th = self.theta(d, x)\n",
        "            t = self.armijo(d, x)\n",
        "            y = obj.Fs(x)\n",
        "            list_point.append(y)\n",
        "            x = x + t * d\n",
        "            d = np.array(fmin(self.phi, x, args=(x, ), disp=False))\n",
        "            if abs(th) < self.eps:\n",
        "              break\n",
        "        return list_point"
      ]
    },
    {
      "cell_type": "code",
      "execution_count": 5,
      "metadata": {
        "colab": {
          "base_uri": "https://localhost:8080/",
          "height": 1000,
          "referenced_widgets": [
            "09748afc62ac4df59c9e297f70ba2841",
            "3c2e4d8d9bd54935b5002c0ffb87b91d",
            "9facd32e3e734d698f0f93c7a8238da7",
            "ea92510fd9e143cd87f769491831eeaf",
            "d95fd058610c486e90a07d727fd72232",
            "5dfa1897e1a347f7b76e9c59623dd09e",
            "e6918f6ee9bc4e2e85605df99ef70f76",
            "b6d1fc80fa4749ae98e02c86fabbeff2",
            "33fe1f22824b4a968a8b467fdaaff5ea",
            "38000426b5554bc8bec1d3b09b2624c8",
            "e71dc51f98864bf69acded1a1fca2ebd"
          ]
        },
        "id": "5rup5ssOvsTC",
        "outputId": "c9e90f24-ab04-4ffd-a55c-db63c03ee461"
      },
      "outputs": [
        {
          "data": {
            "application/vnd.jupyter.widget-view+json": {
              "model_id": "05eb703d49a541f797ab3e3f5ec95f3b",
              "version_major": 2,
              "version_minor": 0
            },
            "text/plain": [
              "  0%|          | 0/400 [00:00<?, ?it/s]"
            ]
          },
          "metadata": {},
          "output_type": "display_data"
        }
      ],
      "source": [
        "sd = SteepestDescent(\n",
        "    ndim=2,\n",
        "    nu=0.5,\n",
        "    sigma=0.01,\n",
        "    eps=1e-8,\n",
        ")\n",
        "\n",
        "res = []\n",
        "# run\n",
        "x_init = 2*np.random.rand(400, 2)\n",
        "for x in tqdm(x_init):\n",
        "    ans = np.array(sd.steepest(x))\n",
        "    res.append(ans)"
      ]
    },
    {
      "cell_type": "code",
      "execution_count": 59,
      "metadata": {},
      "outputs": [],
      "source": [
        "obj = Obj()\n",
        "n_objectives = 2"
      ]
    },
    {
      "cell_type": "code",
      "execution_count": 19,
      "metadata": {
        "id": "gbaGMRljHfTE"
      },
      "outputs": [],
      "source": [
        "visualizer = Visualizer(results=res, n_objectives=n_objectives)"
      ]
    },
    {
      "cell_type": "code",
      "execution_count": 60,
      "metadata": {
        "id": "TjkwmlCsLkkM"
      },
      "outputs": [],
      "source": [
        "with open(\"res_steepest_2.pl\", \"wb\") as f:\n",
        "    pickle.dump(res, f)"
      ]
    },
    {
      "cell_type": "code",
      "execution_count": 55,
      "metadata": {},
      "outputs": [
        {
          "data": {
            "text/plain": [
              "12"
            ]
          },
          "execution_count": 55,
          "metadata": {},
          "output_type": "execute_result"
        }
      ],
      "source": [
        "len(res[0])"
      ]
    },
    {
      "cell_type": "code",
      "execution_count": null,
      "metadata": {},
      "outputs": [],
      "source": []
    }
  ],
  "metadata": {
    "colab": {
      "collapsed_sections": [],
      "name": "MOP_Steepest.ipynb",
      "provenance": []
    },
    "kernelspec": {
      "display_name": "Python 3.10.2 ('deepLearning')",
      "language": "python",
      "name": "python3"
    },
    "language_info": {
      "codemirror_mode": {
        "name": "ipython",
        "version": 3
      },
      "file_extension": ".py",
      "mimetype": "text/x-python",
      "name": "python",
      "nbconvert_exporter": "python",
      "pygments_lexer": "ipython3",
      "version": "3.10.2"
    },
    "vscode": {
      "interpreter": {
        "hash": "0e8cbba3400d99994fa70ff73e627d64df52c5fbdd96546a862ced1157cb53b1"
      }
    },
    "widgets": {
      "application/vnd.jupyter.widget-state+json": {
        "09748afc62ac4df59c9e297f70ba2841": {
          "model_module": "@jupyter-widgets/controls",
          "model_module_version": "1.5.0",
          "model_name": "HBoxModel",
          "state": {
            "_dom_classes": [],
            "_model_module": "@jupyter-widgets/controls",
            "_model_module_version": "1.5.0",
            "_model_name": "HBoxModel",
            "_view_count": null,
            "_view_module": "@jupyter-widgets/controls",
            "_view_module_version": "1.5.0",
            "_view_name": "HBoxView",
            "box_style": "",
            "children": [
              "IPY_MODEL_3c2e4d8d9bd54935b5002c0ffb87b91d",
              "IPY_MODEL_9facd32e3e734d698f0f93c7a8238da7",
              "IPY_MODEL_ea92510fd9e143cd87f769491831eeaf"
            ],
            "layout": "IPY_MODEL_d95fd058610c486e90a07d727fd72232"
          }
        },
        "33fe1f22824b4a968a8b467fdaaff5ea": {
          "model_module": "@jupyter-widgets/controls",
          "model_module_version": "1.5.0",
          "model_name": "ProgressStyleModel",
          "state": {
            "_model_module": "@jupyter-widgets/controls",
            "_model_module_version": "1.5.0",
            "_model_name": "ProgressStyleModel",
            "_view_count": null,
            "_view_module": "@jupyter-widgets/base",
            "_view_module_version": "1.2.0",
            "_view_name": "StyleView",
            "bar_color": null,
            "description_width": ""
          }
        },
        "38000426b5554bc8bec1d3b09b2624c8": {
          "model_module": "@jupyter-widgets/base",
          "model_module_version": "1.2.0",
          "model_name": "LayoutModel",
          "state": {
            "_model_module": "@jupyter-widgets/base",
            "_model_module_version": "1.2.0",
            "_model_name": "LayoutModel",
            "_view_count": null,
            "_view_module": "@jupyter-widgets/base",
            "_view_module_version": "1.2.0",
            "_view_name": "LayoutView",
            "align_content": null,
            "align_items": null,
            "align_self": null,
            "border": null,
            "bottom": null,
            "display": null,
            "flex": null,
            "flex_flow": null,
            "grid_area": null,
            "grid_auto_columns": null,
            "grid_auto_flow": null,
            "grid_auto_rows": null,
            "grid_column": null,
            "grid_gap": null,
            "grid_row": null,
            "grid_template_areas": null,
            "grid_template_columns": null,
            "grid_template_rows": null,
            "height": null,
            "justify_content": null,
            "justify_items": null,
            "left": null,
            "margin": null,
            "max_height": null,
            "max_width": null,
            "min_height": null,
            "min_width": null,
            "object_fit": null,
            "object_position": null,
            "order": null,
            "overflow": null,
            "overflow_x": null,
            "overflow_y": null,
            "padding": null,
            "right": null,
            "top": null,
            "visibility": null,
            "width": null
          }
        },
        "3c2e4d8d9bd54935b5002c0ffb87b91d": {
          "model_module": "@jupyter-widgets/controls",
          "model_module_version": "1.5.0",
          "model_name": "HTMLModel",
          "state": {
            "_dom_classes": [],
            "_model_module": "@jupyter-widgets/controls",
            "_model_module_version": "1.5.0",
            "_model_name": "HTMLModel",
            "_view_count": null,
            "_view_module": "@jupyter-widgets/controls",
            "_view_module_version": "1.5.0",
            "_view_name": "HTMLView",
            "description": "",
            "description_tooltip": null,
            "layout": "IPY_MODEL_5dfa1897e1a347f7b76e9c59623dd09e",
            "placeholder": "​",
            "style": "IPY_MODEL_e6918f6ee9bc4e2e85605df99ef70f76",
            "value": "100%"
          }
        },
        "5dfa1897e1a347f7b76e9c59623dd09e": {
          "model_module": "@jupyter-widgets/base",
          "model_module_version": "1.2.0",
          "model_name": "LayoutModel",
          "state": {
            "_model_module": "@jupyter-widgets/base",
            "_model_module_version": "1.2.0",
            "_model_name": "LayoutModel",
            "_view_count": null,
            "_view_module": "@jupyter-widgets/base",
            "_view_module_version": "1.2.0",
            "_view_name": "LayoutView",
            "align_content": null,
            "align_items": null,
            "align_self": null,
            "border": null,
            "bottom": null,
            "display": null,
            "flex": null,
            "flex_flow": null,
            "grid_area": null,
            "grid_auto_columns": null,
            "grid_auto_flow": null,
            "grid_auto_rows": null,
            "grid_column": null,
            "grid_gap": null,
            "grid_row": null,
            "grid_template_areas": null,
            "grid_template_columns": null,
            "grid_template_rows": null,
            "height": null,
            "justify_content": null,
            "justify_items": null,
            "left": null,
            "margin": null,
            "max_height": null,
            "max_width": null,
            "min_height": null,
            "min_width": null,
            "object_fit": null,
            "object_position": null,
            "order": null,
            "overflow": null,
            "overflow_x": null,
            "overflow_y": null,
            "padding": null,
            "right": null,
            "top": null,
            "visibility": null,
            "width": null
          }
        },
        "9facd32e3e734d698f0f93c7a8238da7": {
          "model_module": "@jupyter-widgets/controls",
          "model_module_version": "1.5.0",
          "model_name": "FloatProgressModel",
          "state": {
            "_dom_classes": [],
            "_model_module": "@jupyter-widgets/controls",
            "_model_module_version": "1.5.0",
            "_model_name": "FloatProgressModel",
            "_view_count": null,
            "_view_module": "@jupyter-widgets/controls",
            "_view_module_version": "1.5.0",
            "_view_name": "ProgressView",
            "bar_style": "success",
            "description": "",
            "description_tooltip": null,
            "layout": "IPY_MODEL_b6d1fc80fa4749ae98e02c86fabbeff2",
            "max": 100,
            "min": 0,
            "orientation": "horizontal",
            "style": "IPY_MODEL_33fe1f22824b4a968a8b467fdaaff5ea",
            "value": 100
          }
        },
        "b6d1fc80fa4749ae98e02c86fabbeff2": {
          "model_module": "@jupyter-widgets/base",
          "model_module_version": "1.2.0",
          "model_name": "LayoutModel",
          "state": {
            "_model_module": "@jupyter-widgets/base",
            "_model_module_version": "1.2.0",
            "_model_name": "LayoutModel",
            "_view_count": null,
            "_view_module": "@jupyter-widgets/base",
            "_view_module_version": "1.2.0",
            "_view_name": "LayoutView",
            "align_content": null,
            "align_items": null,
            "align_self": null,
            "border": null,
            "bottom": null,
            "display": null,
            "flex": null,
            "flex_flow": null,
            "grid_area": null,
            "grid_auto_columns": null,
            "grid_auto_flow": null,
            "grid_auto_rows": null,
            "grid_column": null,
            "grid_gap": null,
            "grid_row": null,
            "grid_template_areas": null,
            "grid_template_columns": null,
            "grid_template_rows": null,
            "height": null,
            "justify_content": null,
            "justify_items": null,
            "left": null,
            "margin": null,
            "max_height": null,
            "max_width": null,
            "min_height": null,
            "min_width": null,
            "object_fit": null,
            "object_position": null,
            "order": null,
            "overflow": null,
            "overflow_x": null,
            "overflow_y": null,
            "padding": null,
            "right": null,
            "top": null,
            "visibility": null,
            "width": null
          }
        },
        "d95fd058610c486e90a07d727fd72232": {
          "model_module": "@jupyter-widgets/base",
          "model_module_version": "1.2.0",
          "model_name": "LayoutModel",
          "state": {
            "_model_module": "@jupyter-widgets/base",
            "_model_module_version": "1.2.0",
            "_model_name": "LayoutModel",
            "_view_count": null,
            "_view_module": "@jupyter-widgets/base",
            "_view_module_version": "1.2.0",
            "_view_name": "LayoutView",
            "align_content": null,
            "align_items": null,
            "align_self": null,
            "border": null,
            "bottom": null,
            "display": null,
            "flex": null,
            "flex_flow": null,
            "grid_area": null,
            "grid_auto_columns": null,
            "grid_auto_flow": null,
            "grid_auto_rows": null,
            "grid_column": null,
            "grid_gap": null,
            "grid_row": null,
            "grid_template_areas": null,
            "grid_template_columns": null,
            "grid_template_rows": null,
            "height": null,
            "justify_content": null,
            "justify_items": null,
            "left": null,
            "margin": null,
            "max_height": null,
            "max_width": null,
            "min_height": null,
            "min_width": null,
            "object_fit": null,
            "object_position": null,
            "order": null,
            "overflow": null,
            "overflow_x": null,
            "overflow_y": null,
            "padding": null,
            "right": null,
            "top": null,
            "visibility": null,
            "width": null
          }
        },
        "e6918f6ee9bc4e2e85605df99ef70f76": {
          "model_module": "@jupyter-widgets/controls",
          "model_module_version": "1.5.0",
          "model_name": "DescriptionStyleModel",
          "state": {
            "_model_module": "@jupyter-widgets/controls",
            "_model_module_version": "1.5.0",
            "_model_name": "DescriptionStyleModel",
            "_view_count": null,
            "_view_module": "@jupyter-widgets/base",
            "_view_module_version": "1.2.0",
            "_view_name": "StyleView",
            "description_width": ""
          }
        },
        "e71dc51f98864bf69acded1a1fca2ebd": {
          "model_module": "@jupyter-widgets/controls",
          "model_module_version": "1.5.0",
          "model_name": "DescriptionStyleModel",
          "state": {
            "_model_module": "@jupyter-widgets/controls",
            "_model_module_version": "1.5.0",
            "_model_name": "DescriptionStyleModel",
            "_view_count": null,
            "_view_module": "@jupyter-widgets/base",
            "_view_module_version": "1.2.0",
            "_view_name": "StyleView",
            "description_width": ""
          }
        },
        "ea92510fd9e143cd87f769491831eeaf": {
          "model_module": "@jupyter-widgets/controls",
          "model_module_version": "1.5.0",
          "model_name": "HTMLModel",
          "state": {
            "_dom_classes": [],
            "_model_module": "@jupyter-widgets/controls",
            "_model_module_version": "1.5.0",
            "_model_name": "HTMLModel",
            "_view_count": null,
            "_view_module": "@jupyter-widgets/controls",
            "_view_module_version": "1.5.0",
            "_view_name": "HTMLView",
            "description": "",
            "description_tooltip": null,
            "layout": "IPY_MODEL_38000426b5554bc8bec1d3b09b2624c8",
            "placeholder": "​",
            "style": "IPY_MODEL_e71dc51f98864bf69acded1a1fca2ebd",
            "value": " 100/100 [00:07&lt;00:00, 16.00it/s]"
          }
        }
      }
    }
  },
  "nbformat": 4,
  "nbformat_minor": 0
}
